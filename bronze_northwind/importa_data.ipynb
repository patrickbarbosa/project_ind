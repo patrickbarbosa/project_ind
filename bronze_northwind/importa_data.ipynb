{
 "cells": [
  {
   "cell_type": "code",
   "execution_count": 1,
   "metadata": {},
   "outputs": [],
   "source": [
    "import pandas as pd\n",
    "import numpy as np\n",
    "\n",
    "import sys\n",
    "sys.path.append('../libs')\n",
    "from fn_database import conectar\n",
    "from fn_database import inserir_dados\n",
    "\n",
    "from datetime import datetime"
   ]
  },
  {
   "cell_type": "code",
   "execution_count": 2,
   "metadata": {},
   "outputs": [],
   "source": [
    "categories = pd.read_csv('categories.csv',sep = ';', encoding='utf-8')\n",
    "customers = pd.read_csv('customers.csv', sep = ';', encoding='utf-8')\n",
    "employee_territories = pd.read_csv('employee_territories.csv', sep = ';', encoding='utf-8')\n",
    "employees = pd.read_csv('employees.csv', sep = ';', encoding='utf-8')\n",
    "order_details = pd.read_csv('order_details.csv', sep = ';', encoding='utf-8')\n",
    "orders = pd.read_csv('orders.csv', sep = ';', encoding='utf-8')\n",
    "products = pd.read_csv('products.csv', sep = ';', encoding='utf-8')\n",
    "region = pd.read_csv('region.csv', sep = ';', encoding='utf-8')\n",
    "shippers = pd.read_csv('shippers.csv', sep = ';', encoding='utf-8')\n",
    "suppliers = pd.read_csv('suppliers.csv', sep = ';', encoding='utf-8')\n",
    "territories = pd.read_csv('territories.csv', sep = ';', encoding='utf-8')\n",
    "us_states = pd.read_csv('us_states.csv', sep = ';', encoding='utf-8')\n"
   ]
  },
  {
   "cell_type": "code",
   "execution_count": 3,
   "metadata": {},
   "outputs": [],
   "source": [
    "# # Lista de DataFrames\n",
    "# dataframes = [categories, customers, employee_territories, employees,\n",
    "#                order_details, orders, products, region, shippers,\n",
    "#                suppliers, territories, us_states]\n",
    "\n",
    "# # Converter NaN para None\n",
    "# for df in dataframes:\n",
    "#     df.replace({pd.NA: None}, inplace=True)"
   ]
  },
  {
   "cell_type": "code",
   "execution_count": 4,
   "metadata": {},
   "outputs": [],
   "source": [
    "# Adicionando coluna de importação\n",
    "\n",
    "categories[\"import_date\"] = datetime.now()\n",
    "customers[\"import_date\"] = datetime.now()\n",
    "employee_territories[\"import_date\"] = datetime.now()\n",
    "employees[\"import_date\"] = datetime.now()\n",
    "order_details[\"import_date\"] = datetime.now()\n",
    "orders[\"import_date\"] = datetime.now()\n",
    "products[\"import_date\"] = datetime.now()\n",
    "region[\"import_date\"] = datetime.now()\n",
    "shippers[\"import_date\"] = datetime.now()\n",
    "suppliers[\"import_date\"] = datetime.now()\n",
    "territories[\"import_date\"] = datetime.now()\n",
    "us_states[\"import_date\"] = datetime.now()\n"
   ]
  },
  {
   "cell_type": "code",
   "execution_count": 5,
   "metadata": {},
   "outputs": [],
   "source": [
    "\n",
    "#employees = employees.fillna(\"\")\n",
    "#order_details = order_details.fillna(\"\")\n",
    "#orders = orders.fillna(\"\")"
   ]
  },
  {
   "cell_type": "code",
   "execution_count": 6,
   "metadata": {},
   "outputs": [
    {
     "name": "stdout",
     "output_type": "stream",
     "text": [
      "Conexão estabelecida com sucesso.\n"
     ]
    }
   ],
   "source": [
    "# Conectando ao database\n",
    "conexao = conectar('northwind_bronze')"
   ]
  },
  {
   "cell_type": "code",
   "execution_count": 7,
   "metadata": {},
   "outputs": [
    {
     "name": "stdout",
     "output_type": "stream",
     "text": [
      "Tabela 'raw_categories' criada com sucesso.\n",
      "Dados inseridos na tabela 'raw_categories'.\n",
      "Tabela 'raw_customers' criada com sucesso.\n",
      "Dados inseridos na tabela 'raw_customers'.\n",
      "Tabela 'raw_employee_territories' criada com sucesso.\n",
      "Dados inseridos na tabela 'raw_employee_territories'.\n",
      "Tabela 'raw_employees' criada com sucesso.\n",
      "Dados inseridos na tabela 'raw_employees'.\n",
      "Tabela 'raw_order_details' criada com sucesso.\n",
      "Dados inseridos na tabela 'raw_order_details'.\n",
      "Tabela 'raw_orders' criada com sucesso.\n",
      "Dados inseridos na tabela 'raw_orders'.\n",
      "Tabela 'raw_products' criada com sucesso.\n",
      "Dados inseridos na tabela 'raw_products'.\n",
      "Tabela 'raw_region' criada com sucesso.\n",
      "Dados inseridos na tabela 'raw_region'.\n",
      "Tabela 'raw_shippers' criada com sucesso.\n",
      "Dados inseridos na tabela 'raw_shippers'.\n",
      "Tabela 'raw_suppliers' criada com sucesso.\n",
      "Dados inseridos na tabela 'raw_suppliers'.\n",
      "Tabela 'raw_territories' criada com sucesso.\n",
      "Dados inseridos na tabela 'raw_territories'.\n",
      "Tabela 'raw_us_states' criada com sucesso.\n",
      "Dados inseridos na tabela 'raw_us_states'.\n"
     ]
    }
   ],
   "source": [
    "inserir_dados(conexao, 'raw_categories', categories)\n",
    "inserir_dados(conexao, 'raw_customers', customers)\n",
    "inserir_dados(conexao, 'raw_employee_territories', employee_territories)\n",
    "inserir_dados(conexao, 'raw_employees', employees)\n",
    "inserir_dados(conexao, 'raw_order_details', order_details)\n",
    "inserir_dados(conexao, 'raw_orders', orders)\n",
    "inserir_dados(conexao, 'raw_products', products)\n",
    "inserir_dados(conexao, 'raw_region', region)\n",
    "inserir_dados(conexao, 'raw_shippers', shippers)\n",
    "inserir_dados(conexao, 'raw_suppliers', suppliers)\n",
    "inserir_dados(conexao, 'raw_territories', territories)\n",
    "inserir_dados(conexao, 'raw_us_states', us_states)"
   ]
  },
  {
   "cell_type": "code",
   "execution_count": null,
   "metadata": {},
   "outputs": [],
   "source": []
  }
 ],
 "metadata": {
  "kernelspec": {
   "display_name": "Python 3",
   "language": "python",
   "name": "python3"
  },
  "language_info": {
   "codemirror_mode": {
    "name": "ipython",
    "version": 3
   },
   "file_extension": ".py",
   "mimetype": "text/x-python",
   "name": "python",
   "nbconvert_exporter": "python",
   "pygments_lexer": "ipython3",
   "version": "3.11.3"
  },
  "orig_nbformat": 4
 },
 "nbformat": 4,
 "nbformat_minor": 2
}
