{
 "cells": [
  {
   "cell_type": "code",
   "execution_count": 6,
   "metadata": {},
   "outputs": [],
   "source": [
    "import pandas as pd\n",
    "import numpy as np\n",
    "\n",
    "import sys\n",
    "sys.path.append('../libs')\n",
    "from fn_database import conectar\n",
    "from fn_database import inserir_dados\n",
    "from fn_database import executar_consulta"
   ]
  },
  {
   "cell_type": "code",
   "execution_count": 7,
   "metadata": {},
   "outputs": [
    {
     "name": "stdout",
     "output_type": "stream",
     "text": [
      "Conexão estabelecida com sucesso.\n",
      "Conexão estabelecida com sucesso.\n",
      "Tabela 'tb_dm_customers' criada com sucesso.\n",
      "Dados inseridos na tabela 'tb_dm_customers'.\n",
      "Tabela 'tb_dm_categories' criada com sucesso.\n",
      "Dados inseridos na tabela 'tb_dm_categories'.\n",
      "Tabela 'tb_dm_employees' criada com sucesso.\n",
      "Dados inseridos na tabela 'tb_dm_employees'.\n",
      "Tabela 'tb_dm_shippers' criada com sucesso.\n",
      "Dados inseridos na tabela 'tb_dm_shippers'.\n",
      "Tabela 'tb_dm_territories' criada com sucesso.\n",
      "Dados inseridos na tabela 'tb_dm_territories'.\n",
      "Tabela 'tb_dm_suppliers' criada com sucesso.\n",
      "Dados inseridos na tabela 'tb_dm_suppliers'.\n",
      "Tabela 'tb_dm_us_states' criada com sucesso.\n",
      "Dados inseridos na tabela 'tb_dm_us_states'.\n",
      "Tabela 'tb_dm_region' criada com sucesso.\n",
      "Dados inseridos na tabela 'tb_dm_region'.\n",
      "Tabela 'tb_dm_employee_territories' criada com sucesso.\n",
      "Dados inseridos na tabela 'tb_dm_employee_territories'.\n",
      "Tabela 'tb_dm_products' criada com sucesso.\n",
      "Dados inseridos na tabela 'tb_dm_products'.\n",
      "Tabela 'tb_ft_stock' criada com sucesso.\n",
      "Dados inseridos na tabela 'tb_ft_stock'.\n",
      "Tabela 'tb_ft_freight' criada com sucesso.\n",
      "Dados inseridos na tabela 'tb_ft_freight'.\n",
      "Tabela 'tb_dm_orders' criada com sucesso.\n",
      "Dados inseridos na tabela 'tb_dm_orders'.\n"
     ]
    }
   ],
   "source": [
    "#Adicionando na gold\n",
    "\n",
    "\n",
    "conexao = conectar('northwind_silver')\n",
    "\n",
    "#Resto das tabelas\n",
    "tb_dm_customers = executar_consulta(conexao,'SELECT * FROM tb_dm_customers')\n",
    "tb_dm_categories = executar_consulta(conexao,'SELECT * FROM tb_dm_categories')\n",
    "tb_dm_employees = executar_consulta(conexao,'SELECT * FROM tb_dm_employees')\n",
    "tb_dm_shippers = executar_consulta(conexao,'SELECT * FROM tb_dm_shippers')\n",
    "tb_dm_territories = executar_consulta(conexao,'SELECT * FROM tb_dm_territories')\n",
    "tb_dm_suppliers = executar_consulta(conexao,'SELECT * FROM tb_dm_suppliers')\n",
    "tb_dm_us_states = executar_consulta(conexao,'SELECT * FROM tb_dm_us_states')\n",
    "tb_dm_region = executar_consulta(conexao,'SELECT * FROM tb_dm_region')\n",
    "tb_dm_employee_territories = executar_consulta(conexao,'SELECT * FROM tb_dm_employee_territories')\n",
    "tb_dm_products = executar_consulta(conexao,'SELECT * FROM tb_dm_products')\n",
    "tb_ft_stock = executar_consulta(conexao,'SELECT * FROM tb_ft_stock')\n",
    "tb_ft_freight = executar_consulta(conexao,'SELECT * FROM tb_ft_freight')\n",
    "tb_dm_orders = executar_consulta(conexao,'SELECT * FROM tb_dm_orders')\n",
    "\n",
    "\n",
    "\n",
    "conexao = conectar('northwind_gold')\n",
    "inserir_dados(conexao, 'tb_dm_customers', tb_dm_customers)\n",
    "inserir_dados(conexao, 'tb_dm_categories', tb_dm_categories)\n",
    "inserir_dados(conexao, 'tb_dm_employees', tb_dm_employees)\n",
    "inserir_dados(conexao, 'tb_dm_shippers', tb_dm_shippers)\n",
    "inserir_dados(conexao, 'tb_dm_territories', tb_dm_territories)\n",
    "inserir_dados(conexao, 'tb_dm_suppliers', tb_dm_suppliers)\n",
    "inserir_dados(conexao, 'tb_dm_us_states', tb_dm_us_states)\n",
    "inserir_dados(conexao, 'tb_dm_region', tb_dm_region)\n",
    "inserir_dados(conexao, 'tb_dm_employee_territories', tb_dm_employee_territories)\n",
    "inserir_dados(conexao, 'tb_dm_products', tb_dm_products)\n",
    "inserir_dados(conexao, 'tb_ft_stock', tb_ft_stock)\n",
    "inserir_dados(conexao, 'tb_ft_freight', tb_ft_freight)\n",
    "inserir_dados(conexao, 'tb_dm_orders', tb_dm_orders)\n"
   ]
  },
  {
   "cell_type": "code",
   "execution_count": 13,
   "metadata": {},
   "outputs": [
    {
     "name": "stdout",
     "output_type": "stream",
     "text": [
      "Conexão estabelecida com sucesso.\n",
      "Conexão estabelecida com sucesso.\n",
      "Tabela 'tb_ft_order_detail' criada com sucesso.\n",
      "Dados inseridos na tabela 'tb_ft_order_detail'.\n"
     ]
    }
   ],
   "source": [
    "query = '''\n",
    "SELECT \n",
    "\tA.*\n",
    "    ,B.order_date\n",
    "FROM northwind_silver.tb_ft_orders_details A\n",
    "LEFT JOIN northwind_silver.tb_dm_orders B\n",
    "\tON A.order_id = B.order_id\n",
    "'''\n",
    "conexao = conectar('northwind_silver')\n",
    "tb_ft_order_detail = executar_consulta(conexao,query)\n",
    "conexao = conectar('northwind_gold')\n",
    "inserir_dados(conexao, 'tb_ft_order_detail', tb_ft_order_detail)"
   ]
  },
  {
   "cell_type": "code",
   "execution_count": 9,
   "metadata": {},
   "outputs": [
    {
     "name": "stdout",
     "output_type": "stream",
     "text": [
      "Conexão estabelecida com sucesso.\n",
      "Tabela 'tb_ft_month_customers' criada com sucesso.\n",
      "Dados inseridos na tabela 'tb_ft_month_customers'.\n"
     ]
    }
   ],
   "source": [
    "query = '''\n",
    "    WITH CTE AS (\n",
    "        select \n",
    "            CONCAT(DATE_FORMAT(order_date, '%Y-%m'),'-01') AS year_mon\n",
    "            ,customer_id\n",
    "            ,ROUND(SUM(total_value),2) AS total_value_orders\n",
    "            ,COUNT(DISTINCT order_id) AS orders\n",
    "            ,COUNT(DISTINCT product_id) AS products_distinct\n",
    "            ,MIN(order_date) AS min_order_date\n",
    "            ,MAX(order_date) AS max_order_date\n",
    "        from tb_ft_order_detail\n",
    "        group by CONCAT(DATE_FORMAT(order_date, '%Y-%m'),'-01'),customer_id\n",
    "    )\n",
    "    ,flg_novo AS (\n",
    "        SELECT customer_id, MIN(year_mon) AS year_mon_ini\n",
    "        FROM CTE\n",
    "        GROUP BY customer_id\n",
    "    )\n",
    "    ,CTE_2 AS (\n",
    "        SELECT A.*\n",
    "        ,ROUND((total_value_orders/orders),2) AS avg_ticket\n",
    "        ,CASE WHEN B.customer_id IS NULL THEN 0 ELSE 1 END AS flg_Novo\n",
    "        FROM CTE A\n",
    "        LEFT JOIN flg_novo B\n",
    "            ON A.customer_id = B.customer_id AND A.year_mon = B.year_mon_ini\n",
    "    )\n",
    "    SELECT \n",
    "        *\n",
    "    FROM CTE_2\n",
    "\n",
    "'''\n",
    "\n",
    "conexao = conectar('northwind_gold')\n",
    "tb_ft_month_customers = executar_consulta(conexao,query)\n",
    "inserir_dados(conexao, 'tb_ft_month_customers', tb_ft_month_customers)"
   ]
  },
  {
   "cell_type": "code",
   "execution_count": 10,
   "metadata": {},
   "outputs": [
    {
     "name": "stdout",
     "output_type": "stream",
     "text": [
      "Conexão estabelecida com sucesso.\n",
      "Tabela 'tb_ft_3_month_customers' criada com sucesso.\n",
      "Dados inseridos na tabela 'tb_ft_3_month_customers'.\n"
     ]
    }
   ],
   "source": [
    "query = '''\n",
    "    WITH CTE AS \n",
    "        (SELECT \n",
    "            DATE_ADD(year_mon, INTERVAL 3 MONTH) AS safra_3m\n",
    "            ,customer_id\n",
    "            ,SUM(total_value_orders) AS total_value_orders\n",
    "            ,SUM(orders) AS orders\n",
    "            ,MIN(min_order_date) AS min_order_date\n",
    "            ,MAX(max_order_date) AS max_order_date\n",
    "            ,ROUND(SUM(total_value_orders)/SUM(orders),2) AS avg_ticket\n",
    "        FROM tb_ft_month_customers\n",
    "        WHERE year_mon BETWEEN year_mon AND DATE_ADD(year_mon, INTERVAL 3 MONTH)\n",
    "        GROUP BY DATE_ADD(year_mon, INTERVAL 3 MONTH), customer_id\n",
    "    )\n",
    "    ,flg_novo AS(\n",
    "        SELECT customer_id, MIN(safra_3m) as min_safra \n",
    "        FROM CTE \n",
    "        group by customer_id\n",
    "    )\n",
    "    SELECT A.*, CASE WHEN B.customer_id IS NULL THEN 0 ELSE 1 END AS flg_new\n",
    "    FROM CTE A\n",
    "    LEFT JOIN  flg_novo B\n",
    "        ON A.customer_id = B.customer_id  AND A.safra_3m = B.min_safra\n",
    "'''\n",
    "\n",
    "conexao = conectar('northwind_gold')\n",
    "tb_ft_3_month_customers = executar_consulta(conexao,query)\n",
    "inserir_dados(conexao, 'tb_ft_3_month_customers', tb_ft_3_month_customers)"
   ]
  },
  {
   "cell_type": "code",
   "execution_count": null,
   "metadata": {},
   "outputs": [],
   "source": []
  }
 ],
 "metadata": {
  "kernelspec": {
   "display_name": "Python 3",
   "language": "python",
   "name": "python3"
  },
  "language_info": {
   "codemirror_mode": {
    "name": "ipython",
    "version": 3
   },
   "file_extension": ".py",
   "mimetype": "text/x-python",
   "name": "python",
   "nbconvert_exporter": "python",
   "pygments_lexer": "ipython3",
   "version": "3.11.3"
  },
  "orig_nbformat": 4
 },
 "nbformat": 4,
 "nbformat_minor": 2
}
