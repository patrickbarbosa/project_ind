{
 "cells": [
  {
   "cell_type": "code",
   "execution_count": 1,
   "metadata": {},
   "outputs": [],
   "source": [
    "import pandas as pd\n",
    "import numpy as np\n",
    "\n",
    "import sys\n",
    "sys.path.append('../libs')\n",
    "from fn_database import conectar\n",
    "from fn_database import inserir_dados\n",
    "from fn_database import executar_consulta"
   ]
  },
  {
   "cell_type": "code",
   "execution_count": 4,
   "metadata": {},
   "outputs": [
    {
     "name": "stdout",
     "output_type": "stream",
     "text": [
      "Conexão estabelecida com sucesso.\n",
      "Conexão estabelecida com sucesso.\n",
      "Tabela 'tb_dm_products' criada com sucesso.\n",
      "Dados inseridos na tabela 'tb_dm_products'.\n"
     ]
    }
   ],
   "source": [
    "# Adicionando a tabela tb_dm_products\n",
    "query =(\n",
    "'''\n",
    "SELECT \n",
    "\tA.product_id\n",
    "\t,A.supplier_id\n",
    "\t,A.product_name\n",
    "\t,A.discontinued\n",
    "FROM northwind_bronze.raw_products A\n",
    "LEFT JOIN northwind_bronze.raw_categories B\n",
    "\tON A.category_id = B.category_id;\n",
    "'''\n",
    ")\n",
    "\n",
    "conexao = conectar('northwind_bronze')\n",
    "tb_dm_products = executar_consulta(conexao,query)\n",
    "conexao = conectar('northwind_silver')\n",
    "inserir_dados(conexao, 'tb_dm_products', tb_dm_products)"
   ]
  },
  {
   "cell_type": "code",
   "execution_count": 5,
   "metadata": {},
   "outputs": [
    {
     "name": "stdout",
     "output_type": "stream",
     "text": [
      "Conexão estabelecida com sucesso.\n",
      "Conexão estabelecida com sucesso.\n",
      "Tabela 'tb_ft_stock' criada com sucesso.\n",
      "Dados inseridos na tabela 'tb_ft_stock'.\n"
     ]
    }
   ],
   "source": [
    "# Adicionando a tabela tb_ft_stock\n",
    "query = '''\n",
    "SELECT \n",
    "\tA.product_id\n",
    "\t,A.unit_price\n",
    "\t,A.units_in_stock\n",
    "\t,A.units_on_order\n",
    "\t,A.reorder_level\n",
    "\t,A.discontinued\n",
    "    ,sysdate() AS last_update\n",
    "FROM northwind_bronze.raw_products A\n",
    "LEFT JOIN northwind_bronze.raw_categories B\n",
    "\tON A.category_id = B.category_id;\n",
    "'''\n",
    "conexao = conectar('northwind_bronze')\n",
    "tb_ft_stock = executar_consulta(conexao,query)\n",
    "conexao = conectar('northwind_silver')\n",
    "inserir_dados(conexao, 'tb_ft_stock', tb_ft_stock)\n"
   ]
  },
  {
   "cell_type": "code",
   "execution_count": 6,
   "metadata": {},
   "outputs": [
    {
     "name": "stdout",
     "output_type": "stream",
     "text": [
      "Conexão estabelecida com sucesso.\n",
      "Conexão estabelecida com sucesso.\n",
      "Tabela 'tb_dm_orders' criada com sucesso.\n",
      "Dados inseridos na tabela 'tb_dm_orders'.\n"
     ]
    }
   ],
   "source": [
    "# Adicionando a tabela tb_dm_orders\n",
    "query = '''\n",
    "SELECT \n",
    "    order_id\n",
    "\t, customer_id\n",
    "\t, employee_id\n",
    "\t, order_date\n",
    "\t, required_date\n",
    "\t, shipped_date\n",
    "    ,CASE WHEN required_date < shipped_date THEN 1 ELSE 0 END AS flg_delayed_delivery\n",
    "    ,CASE WHEN required_date < shipped_date THEN datediff(shipped_date,required_date) ELSE NULL END AS delay_days \n",
    "\t, import_date\n",
    "FROM northwind_bronze.raw_orders A'''\n",
    "\n",
    "conexao = conectar('northwind_bronze')\n",
    "tb_dm_orders = executar_consulta(conexao,query)\n",
    "conexao = conectar('northwind_silver')\n",
    "inserir_dados(conexao, 'tb_dm_orders', tb_dm_orders)"
   ]
  },
  {
   "cell_type": "code",
   "execution_count": 12,
   "metadata": {},
   "outputs": [
    {
     "name": "stdout",
     "output_type": "stream",
     "text": [
      "Conexão estabelecida com sucesso.\n",
      "Conexão estabelecida com sucesso.\n",
      "Tabela 'tb_dm_freight' criada com sucesso.\n",
      "Dados inseridos na tabela 'tb_dm_freight'.\n"
     ]
    }
   ],
   "source": [
    "query = '''\n",
    "\tSELECT DISTINCT \n",
    "\t\torder_id\n",
    "\t\t, ship_via\n",
    "\t\t, freight\n",
    "\t\t, ship_name\n",
    "\t\t, ship_address\n",
    "\t\t, ship_city\n",
    "\t\t, ship_region\n",
    "\t\t, ship_postal_code\n",
    "\t\t, ship_country\n",
    "\tFROM northwind_bronze.raw_orders A'''\n",
    "\n",
    "conexao = conectar('northwind_bronze')\n",
    "tb_dm_freight = executar_consulta(conexao,query)\n",
    "conexao = conectar('northwind_silver')\n",
    "inserir_dados(conexao, 'tb_dm_freight', tb_dm_freight)"
   ]
  },
  {
   "cell_type": "code",
   "execution_count": 8,
   "metadata": {},
   "outputs": [
    {
     "name": "stdout",
     "output_type": "stream",
     "text": [
      "Conexão estabelecida com sucesso.\n",
      "Conexão estabelecida com sucesso.\n",
      "Tabela 'tb_ft_orders_details' criada com sucesso.\n",
      "Dados inseridos na tabela 'tb_ft_orders_details'.\n"
     ]
    }
   ],
   "source": [
    "# Adicionando a tabela tb_ft_orders_details\n",
    "query = '''\n",
    "SELECT\n",
    "\tA.order_id\n",
    "\t,A.product_id\n",
    "\t,A.unit_price\n",
    "\t,quantity\n",
    "\t,A.discount\n",
    "\t,CASE WHEN discount > 0 THEN ((unit_price * quantity) - (unit_price * quantity* discount)) ELSE (unit_price * quantity) END AS total_value\n",
    "\t,CASE WHEN discount > 0  THEN 1 ELSE  0 END AS flg_discount\n",
    "FROM northwind_bronze.raw_order_details A\n",
    "'''\n",
    "conexao = conectar('northwind_bronze')\n",
    "tb_ft_orders_details = executar_consulta(conexao,query)\n",
    "conexao = conectar('northwind_silver')\n",
    "inserir_dados(conexao, 'tb_ft_orders_details', tb_ft_orders_details)"
   ]
  },
  {
   "cell_type": "code",
   "execution_count": 11,
   "metadata": {},
   "outputs": [
    {
     "name": "stdout",
     "output_type": "stream",
     "text": [
      "Conexão estabelecida com sucesso.\n",
      "Conexão estabelecida com sucesso.\n",
      "A tabela 'tb_dm_customers' já existe.\n",
      "A tabela 'tb_dm_categories' já existe.\n",
      "A tabela 'tb_dm_employees' já existe.\n",
      "A tabela 'tb_dm_shippers' já existe.\n",
      "A tabela 'tb_dm_territories' já existe.\n",
      "A tabela 'tb_dm_suppliers' já existe.\n",
      "A tabela 'tb_dm_us_states' já existe.\n",
      "A tabela 'tb_dm_region' já existe.\n",
      "A tabela 'tb_dm_employee_territories' já existe.\n",
      "Erro ao conectar ao MySQL: 1049 (42000): Unknown database 'northwind_gold'\n"
     ]
    },
    {
     "ename": "AttributeError",
     "evalue": "'NoneType' object has no attribute 'cursor'",
     "output_type": "error",
     "traceback": [
      "\u001b[1;31m---------------------------------------------------------------------------\u001b[0m",
      "\u001b[1;31mAttributeError\u001b[0m                            Traceback (most recent call last)",
      "Cell \u001b[1;32mIn[11], line 32\u001b[0m\n\u001b[0;32m     27\u001b[0m \u001b[39m#Adicionando na gold\u001b[39;00m\n\u001b[0;32m     28\u001b[0m conexao \u001b[39m=\u001b[39m conectar(\u001b[39m'\u001b[39m\u001b[39mnorthwind_gold\u001b[39m\u001b[39m'\u001b[39m)\n\u001b[1;32m---> 32\u001b[0m inserir_dados(conexao, \u001b[39m'\u001b[39;49m\u001b[39mtb_dm_customers\u001b[39;49m\u001b[39m'\u001b[39;49m, tb_dm_customers)\n\u001b[0;32m     33\u001b[0m inserir_dados(conexao, \u001b[39m'\u001b[39m\u001b[39mtb_dm_categories\u001b[39m\u001b[39m'\u001b[39m, tb_dm_categories)\n\u001b[0;32m     34\u001b[0m inserir_dados(conexao, \u001b[39m'\u001b[39m\u001b[39mtb_dm_employees\u001b[39m\u001b[39m'\u001b[39m, tb_dm_employees)\n",
      "File \u001b[1;32mc:\\Users\\Patrick\\Documents\\Projeto Indicium\\silver_northwind\\../libs\\fn_database.py:106\u001b[0m, in \u001b[0;36minserir_dados\u001b[1;34m(conexao, tabela, dataframe)\u001b[0m\n\u001b[0;32m    105\u001b[0m \u001b[39mdef\u001b[39;00m \u001b[39minserir_dados\u001b[39m(conexao, tabela, dataframe):\n\u001b[1;32m--> 106\u001b[0m     cursor \u001b[39m=\u001b[39m conexao\u001b[39m.\u001b[39;49mcursor()\n\u001b[0;32m    108\u001b[0m     \u001b[39m# Verifica se a tabela já existe\u001b[39;00m\n\u001b[0;32m    109\u001b[0m     cursor\u001b[39m.\u001b[39mexecute(\u001b[39mf\u001b[39m\u001b[39m\"\u001b[39m\u001b[39mSHOW TABLES LIKE \u001b[39m\u001b[39m'\u001b[39m\u001b[39m{\u001b[39;00mtabela\u001b[39m}\u001b[39;00m\u001b[39m'\u001b[39m\u001b[39m\"\u001b[39m)\n",
      "\u001b[1;31mAttributeError\u001b[0m: 'NoneType' object has no attribute 'cursor'"
     ]
    }
   ],
   "source": [
    "conexao = conectar('northwind_bronze')\n",
    "\n",
    "#Resto das tabelas\n",
    "tb_dm_customers = executar_consulta(conexao,'SELECT * FROM raw_customers')\n",
    "tb_dm_categories = executar_consulta(conexao,'SELECT * FROM raw_categories')\n",
    "tb_dm_employees = executar_consulta(conexao,'SELECT * FROM raw_employees')\n",
    "tb_dm_shippers = executar_consulta(conexao,'SELECT * FROM raw_shippers')\n",
    "tb_dm_territories = executar_consulta(conexao,'SELECT * FROM raw_territories')\n",
    "tb_dm_suppliers = executar_consulta(conexao,'SELECT * FROM raw_suppliers')\n",
    "tb_dm_us_states = executar_consulta(conexao,'SELECT * FROM raw_us_states')\n",
    "tb_dm_region = executar_consulta(conexao,'SELECT * FROM raw_region')\n",
    "tb_dm_employee_territories = executar_consulta(conexao,'SELECT * FROM raw_employee_territories')\n",
    "\n",
    "\n",
    "\n",
    "conexao = conectar('northwind_silver')\n",
    "inserir_dados(conexao, 'tb_dm_customers', tb_dm_customers)\n",
    "inserir_dados(conexao, 'tb_dm_categories', tb_dm_categories)\n",
    "inserir_dados(conexao, 'tb_dm_employees', tb_dm_employees)\n",
    "inserir_dados(conexao, 'tb_dm_shippers', tb_dm_shippers)\n",
    "inserir_dados(conexao, 'tb_dm_territories', tb_dm_territories)\n",
    "inserir_dados(conexao, 'tb_dm_suppliers', tb_dm_suppliers)\n",
    "inserir_dados(conexao, 'tb_dm_us_states', tb_dm_us_states)\n",
    "inserir_dados(conexao, 'tb_dm_region', tb_dm_region)\n",
    "inserir_dados(conexao, 'tb_dm_employee_territories', tb_dm_employee_territories)\n",
    "\n"
   ]
  },
  {
   "cell_type": "code",
   "execution_count": null,
   "metadata": {},
   "outputs": [],
   "source": []
  }
 ],
 "metadata": {
  "kernelspec": {
   "display_name": "Python 3",
   "language": "python",
   "name": "python3"
  },
  "language_info": {
   "codemirror_mode": {
    "name": "ipython",
    "version": 3
   },
   "file_extension": ".py",
   "mimetype": "text/x-python",
   "name": "python",
   "nbconvert_exporter": "python",
   "pygments_lexer": "ipython3",
   "version": "3.11.3"
  },
  "orig_nbformat": 4
 },
 "nbformat": 4,
 "nbformat_minor": 2
}
